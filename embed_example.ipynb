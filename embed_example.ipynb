{
 "cells": [
  {
   "cell_type": "code",
   "execution_count": 7,
   "metadata": {},
   "outputs": [
    {
     "name": "stdout",
     "output_type": "stream",
     "text": [
      "Embeedings are 384 dimensional\n",
      "s1: Exploring the Capabilities of Large Language Models in Natural Language Processing\n",
      "s2: Advancements in Large Language Models for Enhanced Natural Language Understanding\n",
      "s3: Investigating the Complex Interactions in Cellular Biology and Life Processes\n",
      "\n",
      "s1 vs s2: 0.8713\n",
      "s1 vs s3: 0.1612\n",
      "s2 vs s3: 0.0875\n",
      "\n",
      "We find that the first two sentences are more similar than the third sentence is to either of them(the range for cosine similarity is [0, 1])\n"
     ]
    }
   ],
   "source": [
    "# run the command below and select the correct kernel in top right corner(vscode)\n",
    "# pip install sentence-transformers\n",
    "\n",
    "from sentence_transformers import SentenceTransformer\n",
    "from sklearn.metrics.pairwise import cosine_similarity\n",
    "\n",
    "# Load the pre-trained SBERT model\n",
    "model = SentenceTransformer('paraphrase-MiniLM-L6-v2')\n",
    "\n",
    "# first two sentences should be more similar since they are both about LLMs/NLP\n",
    "sentences = [\n",
    "    \"Exploring the Capabilities of Large Language Models in Natural Language Processing\",\n",
    "    \"Advancements in Large Language Models for Enhanced Natural Language Understanding\",\n",
    "    \"Investigating the Complex Interactions in Cellular Biology and Life Processes\"\n",
    "]\n",
    "\n",
    "# Generate embeddings for the sentences\n",
    "embeddings = model.encode(sentences)\n",
    "\n",
    "print(f\"Embeedings are {embeddings.shape[-1]} dimensional\")\n",
    "\n",
    "# Compute cosine similarity between all pairs\n",
    "cosine_sim = cosine_similarity(embeddings)\n",
    "        \n",
    "print(\"s1: \" + sentences[0])\n",
    "print(\"s2: \" + sentences[1])\n",
    "print(\"s3: \" + sentences[2])\n",
    "print()\n",
    "print(f\"s1 vs s2: {cosine_sim[0][1]:.4f}\")\n",
    "print(f\"s1 vs s3: {cosine_sim[0][2]:.4f}\")\n",
    "print(f\"s2 vs s3: {cosine_sim[1][2]:.4f}\")\n",
    "\n",
    "print()\n",
    "print(\"We find that the first two sentences are more similar than the third sentence is to either of them(the range for cosine similarity is [0, 1])\")"
   ]
  }
 ],
 "metadata": {
  "kernelspec": {
   "display_name": "research_agent",
   "language": "python",
   "name": "python3"
  },
  "language_info": {
   "codemirror_mode": {
    "name": "ipython",
    "version": 3
   },
   "file_extension": ".py",
   "mimetype": "text/x-python",
   "name": "python",
   "nbconvert_exporter": "python",
   "pygments_lexer": "ipython3",
   "version": "3.11.11"
  }
 },
 "nbformat": 4,
 "nbformat_minor": 2
}
